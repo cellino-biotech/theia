{
 "cells": [
  {
   "cell_type": "code",
   "execution_count": 128,
   "metadata": {},
   "outputs": [],
   "source": [
    "import math\n",
    "import napari\n",
    "import numpy as np\n",
    "import tifffile as tf\n",
    "\n",
    "from PyQt5.QtWidgets import QFileDialog\n",
    "from matplotlib import pyplot as plt"
   ]
  },
  {
   "cell_type": "markdown",
   "metadata": {},
   "source": [
    "Create a Napari Viewer instance and prompt user to select image file."
   ]
  },
  {
   "cell_type": "code",
   "execution_count": 129,
   "metadata": {},
   "outputs": [],
   "source": [
    "# QFileDialog seems to require a running PyQt app\n",
    "viewer = napari.Viewer()\n",
    "\n",
    "# prompt user to select tiff file for analysis\n",
    "fname = QFileDialog.getOpenFileName(None, 'Open file', 'C:\\\\Users\\\\lukas',\"Image files (*.tif)\")[0]"
   ]
  },
  {
   "cell_type": "markdown",
   "metadata": {},
   "source": [
    "Confirm that the raw imaging data is either unsigned 8- or 16-bit. Convert data to floating point."
   ]
  },
  {
   "cell_type": "code",
   "execution_count": 130,
   "metadata": {},
   "outputs": [],
   "source": [
    "img = tf.imread(fname)\n",
    "\n",
    "# confirm valid image data type\n",
    "if img.dtype not in (np.uint8, np.uint16):\n",
    "    print(f\"Image has unsuported data type {img.dtype}\")\n",
    "    raise TypeError\n",
    "\n",
    "# convert to floating point\n",
    "img = img.astype(np.float64)\n",
    "\n",
    "# subtract top and bottom planes for later comparison\n",
    "subtraction = img[0] - img[-1]\n",
    "\n",
    "err_baseline = np.sqrt(np.sum(np.square(subtraction)))"
   ]
  },
  {
   "cell_type": "markdown",
   "metadata": {},
   "source": [
    "Shift the top and bottom images relative to one another and compare error values. Find the row shift that produces the lowest error."
   ]
  },
  {
   "cell_type": "code",
   "execution_count": 131,
   "metadata": {},
   "outputs": [],
   "source": [
    "# shift images some fraction of original shape\n",
    "shift_y = math.trunc(img.shape[1]/20)\n",
    "\n",
    "err_y_down = np.empty((shift_y), dtype=np.float64)\n",
    "err_y_up = np.empty((shift_y), dtype=np.float64)\n",
    "\n",
    "err_y_down[0] = err_baseline\n",
    "err_y_up[0] = err_baseline\n",
    "\n",
    "# y-axis shift-down\n",
    "for r in range(1, shift_y):\n",
    "    # subtract pixel values from first and last slices\n",
    "    sub = img[0][:-r] - img[-1][r:]\n",
    "    err_y_down[r] = np.sqrt(np.sum(np.square(sub)))\n",
    "\n",
    "# y-axis shift-up\n",
    "for r in range(1, shift_y):\n",
    "    # subtract pixel values from first and last slices\n",
    "    sub = img[0][r:] - img[-1][:-r]\n",
    "    err_y_up[r] = np.sqrt(np.sum(np.square(sub)))"
   ]
  },
  {
   "cell_type": "code",
   "execution_count": 132,
   "metadata": {},
   "outputs": [
    {
     "name": "stdout",
     "output_type": "stream",
     "text": [
      "Shift down by 18 rows\n"
     ]
    }
   ],
   "source": [
    "vertex_down = np.amin(err_y_down)\n",
    "vertex_up = np.amin(err_y_up)\n",
    "\n",
    "if vertex_down < vertex_up:\n",
    "    err_factor_y = np.where(err_y_down == vertex_down)[0][0]\n",
    "    correction_y = img[0][:-err_factor_y] - img[-1][err_factor_y:]\n",
    "    print(f\"Shift down by {err_factor_y} rows\")\n",
    "else:\n",
    "    err_factor_y = np.where(err_y_up == vertex_up)[0][0]\n",
    "    correction_y = img[0][err_factor_y:] - img[-1][:-err_factor_y]\n",
    "    print(f\"Shift up by {err_factor_y} rows\")"
   ]
  },
  {
   "cell_type": "code",
   "execution_count": 133,
   "metadata": {},
   "outputs": [
    {
     "data": {
      "image/png": "[encoded data removed]",
      "text/plain": [
       "<Figure size 432x288 with 1 Axes>"
      ]
     },
     "metadata": {
      "needs_background": "light"
     },
     "output_type": "display_data"
    }
   ],
   "source": [
    "err_y = np.append(np.flip(err_y_down), err_y_up[1:])\n",
    "\n",
    "fig = plt.figure()\n",
    "ax = fig.add_axes([0, 0, 1, 1])\n",
    "ax.plot(np.linspace(-shift_y, shift_y-1, num=shift_y*2-1), err_y)\n",
    "fig.savefig(\"error_y.jpg\", bbox_inches=\"tight\")"
   ]
  },
  {
   "cell_type": "code",
   "execution_count": 135,
   "metadata": {},
   "outputs": [],
   "source": [
    "shift_x = math.trunc(img.shape[2]/20)\n",
    "\n",
    "err_x_left = np.empty((shift_x), dtype=np.float64)\n",
    "err_x_right = np.empty((shift_x), dtype=np.float64)\n",
    "\n",
    "err_x_left[0] = err_baseline\n",
    "err_x_right[0] = err_baseline\n",
    "\n",
    "# x-axis shift-right\n",
    "for c in range(1, shift_x):\n",
    "    # subtract pixel values from first and last slices\n",
    "    sub = img[0][:, c:] - img[-1][:, :-c]\n",
    "    err_x_right[c] = np.sqrt(np.sum(np.square(sub)))\n",
    "\n",
    "# x-axis shift-left\n",
    "for c in range(1, shift_x):\n",
    "    # subtract pixel values from first and last slices\n",
    "    sub = img[0][:, :-c] - img[-1][:, c:]\n",
    "    err_x_left[c] = np.sqrt(np.sum(np.square(sub)))"
   ]
  },
  {
   "cell_type": "code",
   "execution_count": 136,
   "metadata": {},
   "outputs": [
    {
     "name": "stdout",
     "output_type": "stream",
     "text": [
      "Shift right by 3 columns\n"
     ]
    }
   ],
   "source": [
    "vertex_right = np.amin(err_x_right)\n",
    "vertex_left = np.amin(err_x_left)\n",
    "\n",
    "if vertex_right < vertex_left:\n",
    "    err_factor_x = np.where(err_x_right == vertex_right)[0][0]\n",
    "    correction_x = img[0][:, err_factor_x:] - img[-1][:, :-err_factor_x]\n",
    "    print(f\"Shift right by {err_factor_x} columns\")\n",
    "else:\n",
    "    err_factor_x = np.where(err_x_left == vertex_left)[0][0]\n",
    "    correction_x = img[0][:, :-err_factor_x] - img[-1][:, err_factor_x:]\n",
    "    print(f\"Shift right by {err_factor_x} columns\")"
   ]
  },
  {
   "cell_type": "code",
   "execution_count": 138,
   "metadata": {},
   "outputs": [
    {
     "data": {
      "image/png": "[encoded data removed]",
      "text/plain": [
       "<Figure size 432x288 with 1 Axes>"
      ]
     },
     "metadata": {
      "needs_background": "light"
     },
     "output_type": "display_data"
    }
   ],
   "source": [
    "err_x = np.append(np.flip(err_x_right), err_x_left[1:])\n",
    "\n",
    "fig = plt.figure()\n",
    "ax = fig.add_axes([0, 0, 1, 1])\n",
    "ax.plot(np.linspace(-shift_x, shift_x-1, num=shift_x*2-1), err_x)\n",
    "fig.savefig(\"error_x.jpg\", bbox_inches=\"tight\")"
   ]
  },
  {
   "cell_type": "code",
   "execution_count": 139,
   "metadata": {},
   "outputs": [
    {
     "data": {
      "text/plain": [
       "<Image layer 'correction_x' at 0x13b99a6b460>"
      ]
     },
     "execution_count": 139,
     "metadata": {},
     "output_type": "execute_result"
    }
   ],
   "source": [
    "viewer.dims.axis_labels = (\"z\", \"y\", \"x\")\n",
    "\n",
    "viewer.add_image(img)\n",
    "viewer.add_image(subtraction)\n",
    "viewer.add_image(correction_y)\n",
    "viewer.add_image(correction_x)"
   ]
  }
 ],
 "metadata": {
  "interpreter": {
   "hash": "723a27611bb7231e2098e9e2644e5e0594c1d2c79417bab39597b248980abdcc"
  },
  "kernelspec": {
   "display_name": "Python 3.9.6 64-bit (system)",
   "language": "python",
   "name": "python3"
  },
  "language_info": {
   "codemirror_mode": {
    "name": "ipython",
    "version": 3
   },
   "file_extension": ".py",
   "mimetype": "text/x-python",
   "name": "python",
   "nbconvert_exporter": "python",
   "pygments_lexer": "ipython3",
   "version": "3.9.6"
  },
  "orig_nbformat": 4
 },
 "nbformat": 4,
 "nbformat_minor": 2
}
