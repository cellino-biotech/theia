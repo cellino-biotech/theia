{
 "cells": [
  {
   "cell_type": "code",
   "execution_count": null,
   "metadata": {},
   "outputs": [],
   "source": [
    "import math\n",
    "import napari\n",
    "import numpy as np\n",
    "import tifffile as tf\n",
    "\n",
    "from PyQt5.QtWidgets import QFileDialog\n",
    "from matplotlib import pyplot as plt"
   ]
  },
  {
   "cell_type": "markdown",
   "metadata": {},
   "source": [
    "Create a Napari Viewer instance and prompt user to select image file."
   ]
  },
  {
   "cell_type": "code",
   "execution_count": null,
   "metadata": {},
   "outputs": [],
   "source": [
    "# QFileDialog seems to require a running PyQt app\n",
    "viewer = napari.Viewer()\n",
    "\n",
    "# prompt user to select tiff file for analysis\n",
    "fname = QFileDialog.getOpenFileName(None, \"Open file\", \"C:\\\\Users\\\\lukas\\\\Data\", \"Image files (*.tif)\")[0]"
   ]
  },
  {
   "cell_type": "markdown",
   "metadata": {},
   "source": [
    "Confirm that the raw imaging data is either unsigned 8- or 16-bit. Convert data to floating point."
   ]
  },
  {
   "cell_type": "code",
   "execution_count": null,
   "metadata": {},
   "outputs": [],
   "source": [
    "img = tf.imread(fname)\n",
    "\n",
    "# confirm valid image data type\n",
    "if img.dtype not in (np.uint8, np.uint16):\n",
    "    print(f\"Image has unsuported data type {img.dtype}\")\n",
    "    raise TypeError\n",
    "\n",
    "# convert to floating point\n",
    "img = img.astype(np.float64)\n",
    "\n",
    "# rearrange stack as list for easier manipulation\n",
    "proc = []\n",
    "for i in range(img.shape[0]):\n",
    "    proc.append(img[i])"
   ]
  },
  {
   "cell_type": "markdown",
   "metadata": {},
   "source": [
    "Shift corresponding images and compare error values. Find the row shift that produces the lowest error."
   ]
  },
  {
   "cell_type": "code",
   "execution_count": null,
   "metadata": {},
   "outputs": [],
   "source": [
    "for i in range(int(len(proc)/2)):\n",
    "    # subtract corresponding image slices for reference\n",
    "    subtraction = proc[i] - proc[-i-1]\n",
    "\n",
    "    err_baseline = np.sqrt(np.sum(np.square(subtraction)))\n",
    "\n",
    "    # shift images by a fraction of original shape\n",
    "    # shift_y = math.trunc(img.shape[1]/20)\n",
    "    shift_y = 200\n",
    "\n",
    "    err_y_down = np.empty((shift_y), dtype=np.float64)\n",
    "    err_y_up = np.empty((shift_y), dtype=np.float64)\n",
    "\n",
    "    err_y_down[0] = err_baseline\n",
    "    err_y_up[0] = err_baseline\n",
    "\n",
    "    # y-axis shift-down\n",
    "    for r in range(1, shift_y):\n",
    "        # subtract pixel values from first and last slices\n",
    "        sub = proc[i][:-r] - proc[-i-1][r:]\n",
    "        err_y_down[r] = np.sqrt(np.sum(np.square(sub)))\n",
    "\n",
    "    # y-axis shift-up\n",
    "    for r in range(1, shift_y):\n",
    "        # subtract pixel values from first and last slices\n",
    "        sub = proc[i][r:] - proc[-i-1][:-r]\n",
    "        err_y_up[r] = np.sqrt(np.sum(np.square(sub)))\n",
    "    \n",
    "    vertex_down = np.amin(err_y_down)\n",
    "    vertex_up = np.amin(err_y_up)\n",
    "\n",
    "    if vertex_down < vertex_up:\n",
    "        err_factor_y = np.where(err_y_down == vertex_down)[0][0]\n",
    "        # correction_y = img[i][:-err_factor_y] - img[-i-1][err_factor_y:]\n",
    "        proc[i] = proc[i][:-err_factor_y]\n",
    "        proc[-i-1] = proc[-i-1][err_factor_y:]\n",
    "        print(\n",
    "            f\"Remove {err_factor_y} rows from the bottom of plane {i} and \"\n",
    "            f\"top of plane {len(proc) -i -1}\"\n",
    "        )\n",
    "    else:\n",
    "        err_factor_y = np.where(err_y_up == vertex_up)[0][0]\n",
    "        # correction_y = img[i][err_factor_y:] - img[-i-1][:-err_factor_y]\n",
    "        proc[i] = proc[i][err_factor_y:]\n",
    "        proc[-i-1] = proc[-i-1][:-err_factor_y]\n",
    "        print(\n",
    "            f\"Remove {err_factor_y} rows from the top of plane {i} and \"\n",
    "            f\"bottom of plane {len(proc) -i -1}\"\n",
    "        )\n",
    "    \n",
    "    err_y = np.append(np.flip(err_y_down), err_y_up[1:])\n",
    "\n",
    "    # plot data\n",
    "    fig = plt.figure()\n",
    "    ax = fig.add_axes([0, 0, 1, 1])\n",
    "    ax.plot(np.linspace(-shift_y, shift_y-1, num=shift_y*2-1), err_y)\n",
    "    # fig.savefig(\"error_y.jpg\", bbox_inches=\"tight\")"
   ]
  },
  {
   "cell_type": "markdown",
   "metadata": {},
   "source": [
    "Find the column shift that produces the lowest error."
   ]
  },
  {
   "cell_type": "code",
   "execution_count": null,
   "metadata": {},
   "outputs": [],
   "source": [
    "for i in range(int(len(proc)/2)):\n",
    "    # subtract corresponding image slices for reference\n",
    "    subtraction = proc[i] - proc[-i-1]\n",
    "\n",
    "    err_baseline = np.sqrt(np.sum(np.square(subtraction)))\n",
    "\n",
    "    # shift_x = math.trunc(img.shape[2]/20)\n",
    "    shift_x = 50\n",
    "\n",
    "    err_x_left = np.empty((shift_x), dtype=np.float64)\n",
    "    err_x_right = np.empty((shift_x), dtype=np.float64)\n",
    "\n",
    "    err_x_left[0] = err_baseline\n",
    "    err_x_right[0] = err_baseline\n",
    "\n",
    "    # x-axis shift-right\n",
    "    for c in range(1, shift_x):\n",
    "        # subtract pixel values from first and last slices\n",
    "        sub = proc[i][:, c:] - proc[-i-1][:, :-c]\n",
    "        err_x_right[c] = np.sqrt(np.sum(np.square(sub)))\n",
    "\n",
    "    # x-axis shift-left\n",
    "    for c in range(1, shift_x):\n",
    "        # subtract pixel values from first and last slices\n",
    "        sub = proc[i][:, :-c] - proc[-i-1][:, c:]\n",
    "        err_x_left[c] = np.sqrt(np.sum(np.square(sub)))\n",
    "\n",
    "    vertex_right = np.amin(err_x_right)\n",
    "    vertex_left = np.amin(err_x_left)\n",
    "\n",
    "    if vertex_right < vertex_left:\n",
    "        err_factor_x = np.where(err_x_right == vertex_right)[0][0]\n",
    "        # correction_x = img[i][:, err_factor_x:] - img[-i-1][:, :-err_factor_x]\n",
    "        proc[i] = proc[i][:, err_factor_x:]\n",
    "        proc[-i-1] = proc[-i-1][:, :-err_factor_x]\n",
    "        print(\n",
    "            f\"Remove {err_factor_x} cols from the left of plane {i} and \"\n",
    "            f\"right of plane {len(proc) -i -1}\"\n",
    "        )\n",
    "    else:\n",
    "        err_factor_x = np.where(err_x_left == vertex_left)[0][0]\n",
    "        # correction_x = img[i][:, :-err_factor_x] - img[-i-1][:, err_factor_x:]\n",
    "        proc[i] = proc[i][:, :-err_factor_x]\n",
    "        proc[-i-1] = proc[-i-1][:, err_factor_x:]\n",
    "        print(\n",
    "            f\"Remove {err_factor_x} cols from the right of plane {i} and \"\n",
    "            f\"left of plane {len(proc) -i -1}\"\n",
    "        )\n",
    "    \n",
    "    err_x = np.append(np.flip(err_x_right), err_x_left[1:])\n",
    "\n",
    "    # plot data\n",
    "    fig = plt.figure()\n",
    "    ax = fig.add_axes([0, 0, 1, 1])\n",
    "    ax.plot(np.linspace(-shift_x, shift_x-1, num=shift_x*2-1), err_x)\n",
    "    # fig.savefig(\"error_x.jpg\", bbox_inches=\"tight\")"
   ]
  },
  {
   "cell_type": "markdown",
   "metadata": {},
   "source": [
    "Crop image layers to match smallest size."
   ]
  },
  {
   "cell_type": "code",
   "execution_count": null,
   "metadata": {},
   "outputs": [],
   "source": [
    "shape = list(proc[0].shape)\n",
    "\n",
    "for i in proc:\n",
    "    if i.shape[0] < shape[0]:\n",
    "        shape[0] = i.shape[0]\n",
    "    if i.shape[1] < shape[1]:\n",
    "        shape[1] = i.shape[1]\n",
    "\n",
    "for i in range(len(proc)):\n",
    "    if proc[i].shape[0] > shape[0]:\n",
    "        diff = proc[i].shape[0] - shape[0]\n",
    "\n",
    "        if diff == 1:\n",
    "            proc[i] = proc[i][:-1]\n",
    "        else:\n",
    "            if diff % 2:\n",
    "                proc[i] = proc[i][int(diff/2)+1:int(-diff/2)]\n",
    "            else:\n",
    "                proc[i] = proc[i][int(diff/2):int(-diff/2)]\n",
    "        \n",
    "    if proc[i].shape[1] > shape[1]:\n",
    "        diff = proc[i].shape[1] - shape[1]\n",
    "\n",
    "        if diff == 1:\n",
    "            proc[i] = proc[i][:, :-1]\n",
    "        else:\n",
    "            if diff % 2:\n",
    "                proc[i] = proc[i][:, int(diff/2)+1:int(-diff/2)]\n",
    "            else:\n",
    "                proc[i] = proc[i][:, int(diff/2):int(-diff/2)]\n",
    "\n",
    "proc_stack = np.stack(proc, axis=0)"
   ]
  },
  {
   "cell_type": "markdown",
   "metadata": {},
   "source": [
    "Show in Viewer."
   ]
  },
  {
   "cell_type": "code",
   "execution_count": null,
   "metadata": {},
   "outputs": [],
   "source": [
    "viewer.dims.axis_labels = (\"z\", \"y\", \"x\")\n",
    "viewer.add_image(img, name=\"raw\")\n",
    "viewer.add_image(proc_stack, name=\"processed\")\n",
    "\n",
    "proc_stack = proc_stack.astype(np.uint16)\n",
    "tf.imwrite(fname[:fname.rindex(\"_\")] + \"_proc.tif\", proc_stack, imagej=True)"
   ]
  }
 ],
 "metadata": {
  "interpreter": {
   "hash": "7a145e7c3ab50dc882859de0569435773ac1edf6b29fc2499343759523a35c64"
  },
  "kernelspec": {
   "display_name": "Python 3.9.6 64-bit (system)",
   "language": "python",
   "name": "python3"
  },
  "language_info": {
   "codemirror_mode": {
    "name": "ipython",
    "version": 3
   },
   "file_extension": ".py",
   "mimetype": "text/x-python",
   "name": "python",
   "nbconvert_exporter": "python",
   "pygments_lexer": "ipython3",
   "version": "3.9.6"
  },
  "orig_nbformat": 4
 },
 "nbformat": 4,
 "nbformat_minor": 2
}
